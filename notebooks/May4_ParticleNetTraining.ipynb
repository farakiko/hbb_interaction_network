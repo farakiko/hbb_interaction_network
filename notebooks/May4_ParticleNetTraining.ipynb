{
 "cells": [
  {
   "cell_type": "code",
   "execution_count": 1,
   "metadata": {},
   "outputs": [
    {
     "name": "stderr",
     "output_type": "stream",
     "text": [
      "/opt/anaconda3/envs/mlpf/lib/python3.8/site-packages/pandas/core/computation/expressions.py:20: UserWarning: Pandas requires version '2.7.3' or newer of 'numexpr' (version '2.7.1' currently installed).\n",
      "  from pandas.core.computation.check import NUMEXPR_INSTALLED\n"
     ]
    }
   ],
   "source": [
    "import glob\n",
    "import os\n",
    "import sys\n",
    "\n",
    "sys.path.insert(0, \"..\")\n",
    "\n",
    "import pickle as pkl\n",
    "import time\n",
    "from itertools import cycle\n",
    "\n",
    "import matplotlib\n",
    "import matplotlib.pyplot as plt\n",
    "import matplotlib.colors as colors\n",
    "import mplhep as hep\n",
    "import numpy as np\n",
    "import pandas as pd\n",
    "import torch\n",
    "import torch.nn as nn\n",
    "import torch_geometric\n",
    "from sklearn.metrics import auc, roc_curve\n",
    "from torch_geometric.data import Batch, Data\n",
    "from torch_geometric.loader import DataListLoader, DataLoader\n",
    "\n",
    "import awkward as ak\n",
    "import fastjet\n",
    "import vector\n",
    "\n",
    "plt.style.use(hep.style.CMS)\n",
    "plt.rcParams.update({\"font.size\": 20})\n",
    "\n",
    "from tqdm.notebook import tqdm\n",
    "\n",
    "%matplotlib inline"
   ]
  },
  {
   "cell_type": "code",
   "execution_count": 66,
   "metadata": {},
   "outputs": [
    {
     "name": "stdout",
     "output_type": "stream",
     "text": [
      "Device: CPU\n"
     ]
    }
   ],
   "source": [
    "# define the global base device\n",
    "world_size = torch.cuda.device_count()\n",
    "multi_gpu = world_size >= 2\n",
    "if world_size:\n",
    "    device = torch.device(\"cuda:0\")\n",
    "    for i in range(world_size):\n",
    "        print(f\"Device {i}: {torch.cuda.get_device_name(i)}\")\n",
    "else:\n",
    "    device = \"cpu\"\n",
    "    print(\"Device: CPU\")"
   ]
  },
  {
   "cell_type": "markdown",
   "metadata": {},
   "source": [
    "# Top tagging dataset"
   ]
  },
  {
   "cell_type": "code",
   "execution_count": 54,
   "metadata": {},
   "outputs": [
    {
     "name": "stdout",
     "output_type": "stream",
     "text": [
      "../../xai4hep/xai4hep/data/toptagging/test/processed:\r\n",
      "data_0.pt     data_1.pt     data_2.pt     data_3.pt     data_quick.pt\r\n",
      "\r\n",
      "../../xai4hep/xai4hep/data/toptagging/train/processed:\r\n",
      "data_0.pt  data_10.pt data_2.pt  data_4.pt  data_6.pt  data_8.pt\r\n",
      "data_1.pt  data_11.pt data_3.pt  data_5.pt  data_7.pt  data_9.pt\r\n",
      "\r\n",
      "../../xai4hep/xai4hep/data/toptagging/val/processed:\r\n",
      "data_0.pt data_1.pt data_2.pt data_3.pt\r\n"
     ]
    }
   ],
   "source": [
    "! ls ../../xai4hep/xai4hep/data/toptagging/*/processed"
   ]
  },
  {
   "cell_type": "code",
   "execution_count": 55,
   "metadata": {},
   "outputs": [
    {
     "name": "stdout",
     "output_type": "stream",
     "text": [
      "--- loaded file 0 from `train` directory\n",
      "--- loaded file 0 from `val` directory\n",
      "--- loaded file 0 from `val` directory\n"
     ]
    }
   ],
   "source": [
    "# load the datafiles\n",
    "def load_data(dataset_path, flag, n_files=-1):\n",
    "    data_files = glob.glob(f\"{dataset_path}/{flag}/processed/*\")\n",
    "        \n",
    "    data = []\n",
    "    for i, file in enumerate(data_files):\n",
    "        data += torch.load(f\"{dataset_path}/{flag}/processed/data_{i}.pt\")\n",
    "        print(f\"--- loaded file {i} from `{flag}` directory\")\n",
    "        if n_files!=-1 and i==n_files-1:\n",
    "            break\n",
    "                \n",
    "    return data\n",
    "\n",
    "dataset_path = \"../../xai4hep/xai4hep/data/toptagging/\"\n",
    "\n",
    "data_train = load_data(dataset_path, \"train\", n_files=1)\n",
    "data_valid = load_data(dataset_path, \"val\", n_files=1)\n",
    "data_test = load_data(dataset_path, \"val\", n_files=1)"
   ]
  },
  {
   "cell_type": "code",
   "execution_count": 20,
   "metadata": {},
   "outputs": [
    {
     "name": "stdout",
     "output_type": "stream",
     "text": [
      "number of jets available for training: 100001\n",
      "number of jets available for validation: 100001\n",
      "number of jets available for testing: 100001\n"
     ]
    }
   ],
   "source": [
    "# number of jets\n",
    "print(f\"number of jets available for training: {len(data_train)}\")\n",
    "print(f\"number of jets available for validation: {len(data_valid)}\")\n",
    "print(f\"number of jets available for testing: {len(data_test)}\")"
   ]
  },
  {
   "cell_type": "code",
   "execution_count": 38,
   "metadata": {},
   "outputs": [],
   "source": [
    "batch_size = 10\n",
    "\n",
    "train_loader = DataLoader(data_train, batch_size)\n",
    "valid_loader = DataLoader(data_valid, batch_size)\n",
    "test_loader = DataLoader(data_test, batch_size)"
   ]
  },
  {
   "cell_type": "code",
   "execution_count": 39,
   "metadata": {},
   "outputs": [
    {
     "data": {
      "text/plain": [
       "Batch(x=[474, 7], y=[10], batch=[474], ptr=[11])"
      ]
     },
     "execution_count": 39,
     "metadata": {},
     "output_type": "execute_result"
    }
   ],
   "source": [
    "# check one batch which contains 10 jets.\n",
    "# y=0 is QCD jet, and y=1 is a top quark jet\n",
    "\n",
    "for batch in train_loader:\n",
    "    break\n",
    "batch"
   ]
  },
  {
   "cell_type": "code",
   "execution_count": 24,
   "metadata": {},
   "outputs": [],
   "source": [
    "\"\"\"\n",
    "The 7 input features per particle in the jet.\n",
    "    1. ∆η difference in pseudorapidity between the particle and the jet axis\n",
    "    2. ∆φ difference in azimuthal angle between the particle and the jet axis\n",
    "    3. log pT logarithm of the particle’s pT\n",
    "    4. log E logarithm of the particle’s energy\n",
    "    5. log pT/pT_jet logarithm of the particle’s pT relative to the jet pT\n",
    "    6. log E/E_jet logarithm of the particle’s energy relative to the jet energy\n",
    "    7. ∆R\n",
    "\"\"\"\n",
    "\n",
    "feature_dict = {\n",
    "    \"eta\": 0,\n",
    "    \"phi\": 1,\n",
    "    \"pt\": 2,\n",
    "    \"E\": 3,\n",
    "    \"pt/jet_pt\": 4,\n",
    "    \"E/jet_E\": 5,\n",
    "    \"deltaR\": 6,    \n",
    "}\n",
    "\n",
    "feature_label = {\n",
    "    \"eta\": r\"Particle $\\left| \\eta \\right|$\",\n",
    "    \"phi\": r\"Particle $\\left| \\phi \\right|$\",\n",
    "    \"pt\": r\"Particle $p_T$\",\n",
    "    \"E\": \"Particle E\",\n",
    "    \"pt/jet_pt\": r\"Log($\\frac{p_T(particle)}{p_T(jet)})$\",\n",
    "    \"E/jet_E\": r\"$Log(\\frac{E(particle)}{E(jet)})$\",\n",
    "    \"deltaR\": r\"$\\Delta R(particle, jet)$\", \n",
    "    \n",
    "}"
   ]
  },
  {
   "cell_type": "code",
   "execution_count": 25,
   "metadata": {},
   "outputs": [],
   "source": [
    "num_features = 7"
   ]
  },
  {
   "cell_type": "markdown",
   "metadata": {},
   "source": [
    "# ParticleNet"
   ]
  },
  {
   "cell_type": "code",
   "execution_count": 45,
   "metadata": {},
   "outputs": [],
   "source": [
    "from typing import Callable, Union\n",
    "\n",
    "import numpy as np\n",
    "import torch\n",
    "import torch.nn as nn\n",
    "import torch.nn.functional as F\n",
    "from torch import Tensor\n",
    "from torch_cluster import knn_graph\n",
    "from torch_geometric.nn import global_mean_pool\n",
    "from torch_geometric.nn.conv import MessagePassing, EdgeConv\n",
    "from torch_geometric.typing import Adj, PairTensor\n",
    "\n",
    "\n",
    "class EdgeConvBlock(nn.Module):\n",
    "    def __init__(self, in_size, layer_size, depth):\n",
    "        super(EdgeConvBlock, self).__init__()\n",
    "\n",
    "        layers = []\n",
    "\n",
    "        layers.append(nn.Linear(in_size * 2, layer_size))\n",
    "        layers.append(nn.BatchNorm1d(layer_size))\n",
    "        layers.append(nn.ReLU())\n",
    "\n",
    "        for i in range(depth):\n",
    "            layers.append(nn.Linear(layer_size, layer_size))\n",
    "            layers.append(nn.BatchNorm1d(layer_size))\n",
    "            layers.append(nn.ReLU())\n",
    "\n",
    "        self.edge_conv = EdgeConv(nn.Sequential(*layers), aggr=\"mean\")\n",
    "\n",
    "    def forward(self, x, edge_index):\n",
    "        return self.edge_conv(x, edge_index)\n",
    "\n",
    "\n",
    "class ParticleNet(nn.Module):\n",
    "    def __init__(\n",
    "        self,\n",
    "        node_feat_size,\n",
    "        num_classes=1,\n",
    "        k=16,\n",
    "        depth=2,\n",
    "        dropout=False,\n",
    "    ):\n",
    "        super(ParticleNet, self).__init__()\n",
    "\n",
    "        self.node_feat_size = node_feat_size\n",
    "        self.num_classes = num_classes\n",
    "\n",
    "        self.k = k\n",
    "        self.num_edge_conv_blocks = 3\n",
    "\n",
    "        self.kernel_sizes = [self.node_feat_size, 64, 128, 256]\n",
    "        self.input_sizes = np.cumsum(self.kernel_sizes)  # [4, 4+64, 4+64+128, 4+64+128+256]\n",
    "\n",
    "        self.fc_size = 256\n",
    "\n",
    "        if dropout:\n",
    "            self.dropout = 0.1\n",
    "            self.dropout_layer = nn.Dropout(p=self.dropout)\n",
    "        else:\n",
    "            self.dropout = None\n",
    "\n",
    "        # define the edgeconvblocks\n",
    "        self.edge_conv_blocks = nn.ModuleList()\n",
    "        for i in range(0, self.num_edge_conv_blocks):\n",
    "            self.edge_conv_blocks.append(EdgeConvBlock(self.input_sizes[i], self.kernel_sizes[i + 1], depth=depth))\n",
    "\n",
    "        # define the fully connected networks (post-edgeconvs)\n",
    "        self.fc1 = nn.Linear(self.input_sizes[-1], self.fc_size)\n",
    "        self.fc2 = nn.Linear(self.fc_size, self.num_classes)\n",
    "\n",
    "        self.sig = nn.Sigmoid()\n",
    "\n",
    "    def forward(self, batch):\n",
    "        x = batch.x\n",
    "        y = batch.y\n",
    "        batch = batch.batch\n",
    "\n",
    "        # input transformations\n",
    "        x[:, 2] = (x[:, 2] - 1.7) * 0.7  # part_pt_log\n",
    "        x[:, 3] = (x[:, 3] - 2.0) * 0.7  # part_e_log\n",
    "        x[:, 4] = (x[:, 4] + 4.7) * 0.7  # part_logptrel\n",
    "        x[:, 5] = (x[:, 5] + 4.7) * 0.7  # part_logerel\n",
    "        x[:, 6] = (x[:, 6] - 0.2) * 4.7  # part_deltaR\n",
    "\n",
    "        edge_index = {}\n",
    "        for i in range(self.num_edge_conv_blocks):\n",
    "            # using only angular coords for knn in first edgeconv block\n",
    "            edge_index[f\"edge_conv_{i}\"] = knn_graph(x[:, :2], self.k, batch) if i == 0 else knn_graph(x, self.k, batch)\n",
    "\n",
    "            out = self.edge_conv_blocks[i](x, edge_index[f\"edge_conv_{i}\"])\n",
    "\n",
    "            x = torch.cat((out, x), dim=1)  # concatenating with latent features i.e. skip connections per EdgeConvBlock\n",
    "\n",
    "        x = global_mean_pool(x, batch)\n",
    "\n",
    "        x = F.relu(self.fc1(x))\n",
    "        if self.dropout:\n",
    "            x = self.dropout_layer(x)\n",
    "        x = self.fc2(x)\n",
    "        x = self.sig(x)\n",
    "\n",
    "        return x, y"
   ]
  },
  {
   "cell_type": "code",
   "execution_count": 79,
   "metadata": {},
   "outputs": [],
   "source": [
    "# setup the input/output dimension of the model\n",
    "num_features = 7  # we have 7 input features\n",
    "num_classes = 1  # we have one output node"
   ]
  },
  {
   "cell_type": "code",
   "execution_count": 86,
   "metadata": {},
   "outputs": [
    {
     "data": {
      "text/plain": [
       "ParticleNet(\n",
       "  (dropout_layer): Dropout(p=0.1, inplace=False)\n",
       "  (edge_conv_blocks): ModuleList(\n",
       "    (0): EdgeConvBlock(\n",
       "      (edge_conv): EdgeConv(nn=Sequential(\n",
       "        (0): Linear(in_features=14, out_features=64, bias=True)\n",
       "        (1): BatchNorm1d(64, eps=1e-05, momentum=0.1, affine=True, track_running_stats=True)\n",
       "        (2): ReLU()\n",
       "        (3): Linear(in_features=64, out_features=64, bias=True)\n",
       "        (4): BatchNorm1d(64, eps=1e-05, momentum=0.1, affine=True, track_running_stats=True)\n",
       "        (5): ReLU()\n",
       "        (6): Linear(in_features=64, out_features=64, bias=True)\n",
       "        (7): BatchNorm1d(64, eps=1e-05, momentum=0.1, affine=True, track_running_stats=True)\n",
       "        (8): ReLU()\n",
       "        (9): Linear(in_features=64, out_features=64, bias=True)\n",
       "        (10): BatchNorm1d(64, eps=1e-05, momentum=0.1, affine=True, track_running_stats=True)\n",
       "        (11): ReLU()\n",
       "      ))\n",
       "    )\n",
       "    (1): EdgeConvBlock(\n",
       "      (edge_conv): EdgeConv(nn=Sequential(\n",
       "        (0): Linear(in_features=142, out_features=128, bias=True)\n",
       "        (1): BatchNorm1d(128, eps=1e-05, momentum=0.1, affine=True, track_running_stats=True)\n",
       "        (2): ReLU()\n",
       "        (3): Linear(in_features=128, out_features=128, bias=True)\n",
       "        (4): BatchNorm1d(128, eps=1e-05, momentum=0.1, affine=True, track_running_stats=True)\n",
       "        (5): ReLU()\n",
       "        (6): Linear(in_features=128, out_features=128, bias=True)\n",
       "        (7): BatchNorm1d(128, eps=1e-05, momentum=0.1, affine=True, track_running_stats=True)\n",
       "        (8): ReLU()\n",
       "        (9): Linear(in_features=128, out_features=128, bias=True)\n",
       "        (10): BatchNorm1d(128, eps=1e-05, momentum=0.1, affine=True, track_running_stats=True)\n",
       "        (11): ReLU()\n",
       "      ))\n",
       "    )\n",
       "    (2): EdgeConvBlock(\n",
       "      (edge_conv): EdgeConv(nn=Sequential(\n",
       "        (0): Linear(in_features=398, out_features=256, bias=True)\n",
       "        (1): BatchNorm1d(256, eps=1e-05, momentum=0.1, affine=True, track_running_stats=True)\n",
       "        (2): ReLU()\n",
       "        (3): Linear(in_features=256, out_features=256, bias=True)\n",
       "        (4): BatchNorm1d(256, eps=1e-05, momentum=0.1, affine=True, track_running_stats=True)\n",
       "        (5): ReLU()\n",
       "        (6): Linear(in_features=256, out_features=256, bias=True)\n",
       "        (7): BatchNorm1d(256, eps=1e-05, momentum=0.1, affine=True, track_running_stats=True)\n",
       "        (8): ReLU()\n",
       "        (9): Linear(in_features=256, out_features=256, bias=True)\n",
       "        (10): BatchNorm1d(256, eps=1e-05, momentum=0.1, affine=True, track_running_stats=True)\n",
       "        (11): ReLU()\n",
       "      ))\n",
       "    )\n",
       "  )\n",
       "  (fc1): Linear(in_features=455, out_features=256, bias=True)\n",
       "  (fc2): Linear(in_features=256, out_features=1, bias=True)\n",
       "  (sig): Sigmoid()\n",
       ")"
      ]
     },
     "execution_count": 86,
     "metadata": {},
     "output_type": "execute_result"
    }
   ],
   "source": [
    "model_kwargs = {\n",
    "    \"node_feat_size\": num_features,\n",
    "    \"num_classes\": num_classes,\n",
    "    \"k\": 16,\n",
    "    \"depth\": 3,\n",
    "    \"dropout\": True,\n",
    "}\n",
    "\n",
    "model = ParticleNet(**model_kwargs)\n",
    "model.to(device)"
   ]
  },
  {
   "cell_type": "code",
   "execution_count": 87,
   "metadata": {
    "scrolled": true
   },
   "outputs": [
    {
     "data": {
      "application/vnd.jupyter.widget-view+json": {
       "model_id": "2fe839d4a71d43d28201248186bb2f5a",
       "version_major": 2,
       "version_minor": 0
      },
      "text/plain": [
       "HBox(children=(FloatProgress(value=1.0, bar_style='info', max=1.0), HTML(value='')))"
      ]
     },
     "metadata": {},
     "output_type": "display_data"
    },
    {
     "name": "stdout",
     "output_type": "stream",
     "text": [
      "batch # 0, loss=0.996\n",
      "batch # 1, loss=0.869\n",
      "batch # 2, loss=0.808\n",
      "batch # 3, loss=0.759\n",
      "batch # 4, loss=0.651\n",
      "batch # 5, loss=0.719\n",
      "batch # 6, loss=0.674\n",
      "batch # 7, loss=0.678\n",
      "batch # 8, loss=0.681\n",
      "batch # 9, loss=0.703\n",
      "batch # 10, loss=0.686\n",
      "\n"
     ]
    }
   ],
   "source": [
    "optimizer = torch.optim.Adam(model.parameters(), lr=1e-3)\n",
    "\n",
    "criterion = nn.BCELoss()\n",
    "sig = nn.Sigmoid()\n",
    "\n",
    "model.train()\n",
    "for i, batch in tqdm(enumerate(train_loader)):\n",
    "    preds, targets = model(batch.to(device))\n",
    "    loss = criterion(sig(preds), targets.reshape(-1, 1).float())\n",
    "    print(f\"batch # {i}, loss={loss:.3f}\")\n",
    "    \n",
    "    for param in model.parameters():\n",
    "        param.grad = None\n",
    "    loss.backward()\n",
    "    optimizer.step()\n",
    "            \n",
    "    if i==10:\n",
    "        break"
   ]
  },
  {
   "cell_type": "markdown",
   "metadata": {},
   "source": [
    "# Make ROC curves"
   ]
  },
  {
   "cell_type": "code",
   "execution_count": 88,
   "metadata": {},
   "outputs": [],
   "source": [
    "def make_roc(y_test, y_score):\n",
    "    fpr, tpr, _ = roc_curve(y_test, y_score)\n",
    "\n",
    "    fig, ax = plt.subplots(figsize=(8,7))\n",
    "    ax.plot(\n",
    "        tpr,\n",
    "        fpr,\n",
    "        color=\"darkorange\",\n",
    "        lw=2,\n",
    "        label=f\"AUC = {round(auc(fpr, tpr)*100,2)}%\",\n",
    "    )\n",
    "    plt.xlim([0.0, 1.0])\n",
    "    plt.ylabel(\"False Positive Rate\")\n",
    "    plt.xlabel(\"True Positive Rate\")\n",
    "    plt.yscale(\"log\")\n",
    "    plt.legend(loc=\"lower right\")"
   ]
  },
  {
   "cell_type": "code",
   "execution_count": 89,
   "metadata": {},
   "outputs": [
    {
     "name": "stdout",
     "output_type": "stream",
     "text": [
      "- making predictions\n"
     ]
    },
    {
     "data": {
      "application/vnd.jupyter.widget-view+json": {
       "model_id": "fbdbe8d5534a4fceb802a06116e10554",
       "version_major": 2,
       "version_minor": 0
      },
      "text/plain": [
       "HBox(children=(FloatProgress(value=1.0, bar_style='info', max=1.0), HTML(value='')))"
      ]
     },
     "metadata": {},
     "output_type": "display_data"
    },
    {
     "name": "stdout",
     "output_type": "stream",
     "text": [
      "\n"
     ]
    }
   ],
   "source": [
    "print(\"- making predictions\")\n",
    "y_score = None\n",
    "y_test = None\n",
    "\n",
    "model.eval()\n",
    "for i, batch in tqdm(enumerate(test_loader)):\n",
    "\n",
    "    preds, targets = model(batch.to(device))\n",
    "    preds = preds.detach().cpu()\n",
    "\n",
    "    if y_score is None:\n",
    "        y_score = preds[:].detach().cpu().reshape(-1)\n",
    "        y_test = targets.detach().cpu()\n",
    "    else:\n",
    "        y_score = torch.cat([y_score, preds[:].detach().cpu().reshape(-1)])\n",
    "        y_test = torch.cat([y_test, targets.detach().cpu()])\n",
    "\n",
    "    if i==100:\n",
    "        break"
   ]
  },
  {
   "cell_type": "code",
   "execution_count": 90,
   "metadata": {},
   "outputs": [
    {
     "data": {
      "image/png": "[encoded data removed]",
      "text/plain": [
       "<Figure size 576x504 with 1 Axes>"
      ]
     },
     "metadata": {
      "needs_background": "light"
     },
     "output_type": "display_data"
    }
   ],
   "source": [
    "plt.rcParams.update({\"font.size\": 20})\n",
    "make_roc(y_test, y_score)"
   ]
  },
  {
   "cell_type": "code",
   "execution_count": null,
   "metadata": {},
   "outputs": [],
   "source": []
  },
  {
   "cell_type": "code",
   "execution_count": null,
   "metadata": {},
   "outputs": [],
   "source": []
  }
 ],
 "metadata": {
  "kernelspec": {
   "display_name": "mlpf",
   "language": "python",
   "name": "mlpf"
  },
  "language_info": {
   "codemirror_mode": {
    "name": "ipython",
    "version": 3
   },
   "file_extension": ".py",
   "mimetype": "text/x-python",
   "name": "python",
   "nbconvert_exporter": "python",
   "pygments_lexer": "ipython3",
   "version": "3.8.3"
  }
 },
 "nbformat": 4,
 "nbformat_minor": 4
}
